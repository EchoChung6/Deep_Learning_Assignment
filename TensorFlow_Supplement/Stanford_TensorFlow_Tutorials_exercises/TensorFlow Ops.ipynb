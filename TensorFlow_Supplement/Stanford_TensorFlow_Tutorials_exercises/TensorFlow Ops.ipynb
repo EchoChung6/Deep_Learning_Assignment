{
 "cells": [
  {
   "cell_type": "markdown",
   "metadata": {},
   "source": [
    "## TensorBoard"
   ]
  },
  {
   "cell_type": "code",
   "execution_count": 3,
   "metadata": {},
   "outputs": [],
   "source": [
    "import tensorflow as tf"
   ]
  },
  {
   "cell_type": "code",
   "execution_count": 3,
   "metadata": {},
   "outputs": [
    {
     "name": "stdout",
     "output_type": "stream",
     "text": [
      "5\n"
     ]
    }
   ],
   "source": [
    "a = tf.constant(2)\n",
    "b = tf.constant(3)\n",
    "x = tf.add(a,b)\n",
    "\n",
    "with tf.Session() as sess:\n",
    "    # to activate TensorBoard \n",
    "    writer = tf.summary.FileWriter('./graphs', sess.graph)\n",
    "    print (sess.run(x))\n",
    "    \n",
    "writer.close()"
   ]
  },
  {
   "cell_type": "markdown",
   "metadata": {},
   "source": [
    "## Constant\n",
    "\n",
    "### Constant Types\n",
    "\n",
    "tf.constant(value, dtype=None, shape=None, name='Const'. verify_shape=False)"
   ]
  },
  {
   "cell_type": "code",
   "execution_count": 11,
   "metadata": {},
   "outputs": [
    {
     "name": "stdout",
     "output_type": "stream",
     "text": [
      "[[0 0 0]\n",
      " [0 0 0]]\n",
      "[[1 1]\n",
      " [1 1]]\n",
      "[[6 6]\n",
      " [6 6]\n",
      " [6 6]]\n"
     ]
    }
   ],
   "source": [
    "# constant of vector\n",
    "a = tf.constant([2,2], name=\"vector\")\n",
    "\n",
    "# constant of matrix\n",
    "b = tf.constant([[0,1], [2,3]], name=\"matrix\")\n",
    "\n",
    "# create a tensor whose elements are a specific value\n",
    "# tf.zeros(shape, dtype=tf.floa32, name=None)\n",
    "c = tf.zeros([2,3], tf.int32)\n",
    "\n",
    "# create a tensor of shape and type as the input_tensor but all elements are specific values\n",
    "#tf.zeros_like(input_tensor, dtype=tf.float32, name=None)\n",
    "d = tf.ones_like(b)\n",
    "\n",
    "# create a tensor filled with a scalat value\n",
    "# tf.fill(dims, value, name=None)\n",
    "e = tf.fill([3,2], 6)\n",
    "\n",
    "with tf.Session() as sess:\n",
    "    print(sess.run(c))\n",
    "    print(sess.run(d))\n",
    "    print(sess.run(e))"
   ]
  },
  {
   "cell_type": "markdown",
   "metadata": {},
   "source": [
    "### sequences\n",
    "\n",
    "note that Tensorflow sequences are not iterable"
   ]
  },
  {
   "cell_type": "code",
   "execution_count": 21,
   "metadata": {},
   "outputs": [
    {
     "name": "stdout",
     "output_type": "stream",
     "text": [
      "[ 4.          4.80000019  5.5999999   6.4000001   7.19999981  8.        ]\n",
      "[ 4.   4.5  5.   5.5  6.   6.5  7.   7.5]\n",
      "[100  99  98  97]\n",
      "[0 1 2 3 4 5]\n"
     ]
    }
   ],
   "source": [
    "# tf.linspace(start, stop, num, name=None)\n",
    "a = tf.linspace(4.0, 8.0, 6,name=\"seq1\")\n",
    "\n",
    "# tf.range(start, limit=None, delta=1, dtype=None, name=\"range\")\n",
    "b = tf.range(4,8,0.5)\n",
    "c = tf.range(100,96, -1)\n",
    "d = tf.range(6)\n",
    "\n",
    "with tf.Session() as sess:\n",
    "    print(sess.run(a))\n",
    "    print(sess.run(b))\n",
    "    print(sess.run(c))\n",
    "    print(sess.run(d))"
   ]
  },
  {
   "cell_type": "markdown",
   "metadata": {},
   "source": [
    "### generate random constants from certain distributions\n",
    "\n",
    "* tf.random_normal(shape, mean=0.0, stddev=1.0, dtype=tf.float32, seed=None, name=None)\n",
    "\n",
    "* tf.truncated_normal(shape, mean=0.0, stddev=1.0, dtype=tf.float32, seed=None,\n",
    "name=None)\n",
    "\n",
    "* tf.random_uniform(shape, minval=0, maxval=None, dtype=tf.float32, seed=None,\n",
    "name=None)\n",
    "\n",
    "* tf.random_shuffle(value, seed=None, name=None)\n",
    "\n",
    "* tf.random_crop(value, size, seed=None, name=None)\n",
    "\n",
    "* tf.multinomial(logits, num_samples, seed=None, name=None)\n",
    "\n",
    "* tf.random_gamma(shape, alpha, beta=None, dtype=tf.float32, seed=None, name=None)"
   ]
  },
  {
   "cell_type": "markdown",
   "metadata": {},
   "source": [
    "## Math Operations\n",
    "\n",
    "https://tensorflow.google.cn/api_docs/python/\n",
    "\n",
    "#### Elementwise operations\n",
    "* tf.add\n",
    "* tf.sub\n",
    "* tf.mul\n",
    "* tf.div\n",
    "* tf.exp\n",
    "* tf.log\n",
    "...\n",
    "\n",
    "#### Matrix operations\n",
    "* tf.matmul"
   ]
  },
  {
   "cell_type": "markdown",
   "metadata": {},
   "source": [
    "## Data Types\n",
    "\n",
    "### Takes in Python Native Types\n",
    "\n",
    "TensorFlow takes in Python native types such as Python boolean values, numeric values\n",
    "(integers, floats), and strings. Single values will be converted to 0-d tensors (or scalars), lists of\n",
    "values will be converted to 1-d tensors (vectors), lists of lists of values will be converted to 2-d\n",
    "tensors (matrices), and so on"
   ]
  },
  {
   "cell_type": "code",
   "execution_count": 13,
   "metadata": {},
   "outputs": [
    {
     "name": "stdout",
     "output_type": "stream",
     "text": [
      "[b'' b'' b'']\n",
      "[ 1.  1.  1.]\n",
      "[[False False False]\n",
      " [False False False]\n",
      " [False False False]]\n",
      "[[ True  True  True]\n",
      " [ True  True  True]\n",
      " [ True  True  True]]\n"
     ]
    }
   ],
   "source": [
    "# treated as 1-d tensor: a vector\n",
    "t_1 = [\"apple\", \"peach\", \"grape\"]\n",
    "\n",
    "# treated as 2-d tensor: matrix\n",
    "t_2 = [[ True , False , False ],\n",
    "[ False , False , True ],\n",
    "[ False , True , False ]]\n",
    "\n",
    "with tf.Session() as sess:   \n",
    "    '''\n",
    "    tf.zeros_like / tf.ones_like create a tensor of shape and type as the input tensor\n",
    "    unless type is specified\n",
    "    '''\n",
    "    print(sess.run(tf.zeros_like(t_1)))\n",
    "    # print(sess.run(tf.ones_like(t_1))) -- TypeError: Expected String, got '1' which is of type 'int'\n",
    "    print(sess.run(tf.ones_like(t_1, dtype=tf.float32)))\n",
    "    \n",
    "    print(sess.run(tf.zeros_like(t_2)))\n",
    "    print(sess.run(tf.ones_like(t_2)))"
   ]
  },
  {
   "cell_type": "markdown",
   "metadata": {},
   "source": [
    "### TensorFlow Native Types\n",
    "\n",
    "* tf.float32\n",
    "* tf.int32\n",
    "* tf.string\n",
    "* tf.bool\n",
    "* ..."
   ]
  },
  {
   "cell_type": "markdown",
   "metadata": {},
   "source": [
    "### Numpy Data Types\n",
    "\n",
    "Can pass NumPy types to TensorFlow ops.In fact, np.int32 == tf.int32 returns True."
   ]
  },
  {
   "cell_type": "markdown",
   "metadata": {},
   "source": [
    "## Variables\n",
    "\n",
    "The difference between a constant and a variable:\n",
    "1. A constant is constant. A variable can be assigned to, its value can be changed.\n",
    "2. A constant's value is stored in the graph and its value is replicated wherever the graph is loaded. A variable is stored separately, and may live on a parameter server.\n",
    "\n",
    "### Declare variables\n",
    "\n",
    "Note that it’s tf.constant but tf.Variable and not tf.variable because tf.constant is an op, while tf.Variable is a class.\n",
    "\n",
    "x = tf.Variable(...). tf.Variable holds several ops:\n",
    "\n",
    "* x.initializer # init\n",
    "* x.value() # read op\n",
    "* x.assign(...) # write op\n",
    "* x.assign_add(...)\n",
    "* and more"
   ]
  },
  {
   "cell_type": "code",
   "execution_count": 14,
   "metadata": {},
   "outputs": [],
   "source": [
    "#create variable c as a 2x2 matrix\n",
    "c = tf.Variable ([[ 0 , 1 ], [ 2 , 3 ]], name = \"matrix\" )\n",
    "# create variable W as 784 x 10 tensor, filled with zeros\n",
    "W = tf.Variable (tf.zeros ([ 784 , 10 ]))"
   ]
  },
  {
   "cell_type": "markdown",
   "metadata": {},
   "source": [
    "### Initialize variables before using them\n",
    "\n",
    "The easiest way is initializing all variables at once using: tf.global_variables_initializer()"
   ]
  },
  {
   "cell_type": "code",
   "execution_count": 18,
   "metadata": {},
   "outputs": [],
   "source": [
    "init = tf.global_variables_initializer ()\n",
    "with tf.Session () as sess:\n",
    "    sess.run (init)"
   ]
  },
  {
   "cell_type": "markdown",
   "metadata": {},
   "source": [
    "To initialize only a subset of variables, use tf.variables_initializer() with a list of variables"
   ]
  },
  {
   "cell_type": "code",
   "execution_count": 21,
   "metadata": {},
   "outputs": [],
   "source": [
    "#create variable a with scalar value\n",
    "a = tf.Variable ( 2 , name = \"scalar\" )\n",
    "#create variable b as a vector\n",
    "b = tf.Variable ([ 2 , 3 ], name = \"vector\" )\n",
    "\n",
    "init_ab = tf.variables_initializer ([ a , b ], name = \"init_ab\")\n",
    "with tf.Session () as sess:\n",
    "    sess.run (init_ab)"
   ]
  },
  {
   "cell_type": "markdown",
   "metadata": {},
   "source": [
    "can also initialize each variable separately using tf.Variable.initializer"
   ]
  },
  {
   "cell_type": "code",
   "execution_count": 22,
   "metadata": {},
   "outputs": [],
   "source": [
    "# create variable W as 784 x 10 tensor, filled with ones\n",
    "W = tf.Variable (tf.ones ([ 784 , 10 ]))\n",
    "with tf.Session () as sess:\n",
    "    sess.run (W.initializer)"
   ]
  },
  {
   "cell_type": "markdown",
   "metadata": {},
   "source": [
    "### Evaluate values of variables\n",
    "\n",
    "To get the value of a variable, need to evaluate it using eval()"
   ]
  },
  {
   "cell_type": "code",
   "execution_count": 23,
   "metadata": {},
   "outputs": [
    {
     "name": "stdout",
     "output_type": "stream",
     "text": [
      "[[ 1.21980631 -1.07641935  0.09138761 ...,  1.34396577  1.01605749\n",
      "   0.38480356]\n",
      " [ 0.22324321  0.02909821 -0.50907809 ..., -0.01829851 -0.24019852\n",
      "  -0.05399833]\n",
      " [ 0.64840132 -1.0791235  -0.19096249 ...,  0.13658375  0.94323856\n",
      "   0.60273248]\n",
      " ..., \n",
      " [ 0.0026705   0.61737317 -1.21857595 ..., -0.33915862 -0.48111832\n",
      "   0.49360624]\n",
      " [-0.78998882 -0.33629248  1.87223768 ...,  0.96086055  0.82523876\n",
      "   0.39857876]\n",
      " [ 0.57140088  0.37320924  0.56249982 ...,  0.46356663  0.60333568\n",
      "   0.89421517]]\n"
     ]
    }
   ],
   "source": [
    "# W is a random 700 x 100 variable object\n",
    "W = tf.Variable (tf.truncated_normal ([ 700 , 10 ]))\n",
    "with tf.Session () as sess:\n",
    "    sess.run (W.initializer)\n",
    "    print(W.eval())"
   ]
  },
  {
   "cell_type": "markdown",
   "metadata": {},
   "source": [
    "### Assign values to variables \n",
    "\n",
    "can assign a value to a variable using tf.Variable.assign()"
   ]
  },
  {
   "cell_type": "code",
   "execution_count": 24,
   "metadata": {},
   "outputs": [
    {
     "name": "stdout",
     "output_type": "stream",
     "text": [
      "100\n"
     ]
    }
   ],
   "source": [
    "W = tf.Variable(10)\n",
    "assign_op = W.assign(100) # only create an assign op\n",
    "with tf.Session () as sess:\n",
    "    sess.run(assign_op) # to make the assign op take effect\n",
    "    print(W. eval())"
   ]
  },
  {
   "cell_type": "markdown",
   "metadata": {},
   "source": [
    "can declare a variable that depends on other variables.\n",
    "\n",
    "Suppose you want to declare U = W * 2. In this case, you should use initialized_value() to make sure that W is initialized before its value is used to initialize W."
   ]
  },
  {
   "cell_type": "code",
   "execution_count": null,
   "metadata": {},
   "outputs": [],
   "source": [
    "# W is a random 700 x 100 tensor\n",
    "W = tf.Variable (tf.truncated_normal ([ 700 , 10 ]))\n",
    "U = tf.Variable (W.intialized_value () * 2)"
   ]
  },
  {
   "cell_type": "markdown",
   "metadata": {},
   "source": [
    "## Placeholder\n",
    "\n",
    "TensorFlow program often has 2 phases:\n",
    "\n",
    "Phase 1: assemble a graph\n",
    "\n",
    "Phase 2: use a session to execute operations in the graph.\n",
    "\n",
    "Therefore, can assemble the graphs first without knowing the values needed for computation. Then later supply their own data when they need to execute the computation.\n",
    "\n",
    "To define a placeholder:\n",
    "\n",
    "$tf.placeholder(dtype, shape = None, name = None)$\n",
    "\n",
    "where dtype is required."
   ]
  },
  {
   "cell_type": "code",
   "execution_count": 4,
   "metadata": {},
   "outputs": [
    {
     "name": "stdout",
     "output_type": "stream",
     "text": [
      "[ 6.  7.  8.]\n"
     ]
    }
   ],
   "source": [
    "# create a placeholder of type float 32-bit, shape is a vector of 3 elements\n",
    "a = tf . placeholder ( tf . float32 , shape =[ 3 ])\n",
    "# create a constant of type float 32-bit, shape is a vector of 3 elements\n",
    "b = tf . constant ([ 5 , 5 , 5 ], tf . float32)\n",
    "# use the placeholder as you would a constant or a variable\n",
    "c = a + b # Short for tf.add(a, b)\n",
    "\n",
    "with tf . Session () as sess:\n",
    "    # feed [1, 2, 3] to placeholder a via the dict {a: [1, 2, 3]}\n",
    "    # fetch value of c\n",
    "    print ( sess . run ( c , { a : [ 1 , 2 , 3 ]}))"
   ]
  },
  {
   "cell_type": "markdown",
   "metadata": {},
   "source": [
    "* Tips of shape:\n",
    "\n",
    "The number of examples during test/train is different. Hence often use None to allow flexibility on the number of examples."
   ]
  },
  {
   "cell_type": "code",
   "execution_count": null,
   "metadata": {},
   "outputs": [],
   "source": []
  }
 ],
 "metadata": {
  "kernelspec": {
   "display_name": "tfkernel",
   "language": "python",
   "name": "tfkernel"
  },
  "language_info": {
   "codemirror_mode": {
    "name": "ipython",
    "version": 3
   },
   "file_extension": ".py",
   "mimetype": "text/x-python",
   "name": "python",
   "nbconvert_exporter": "python",
   "pygments_lexer": "ipython3",
   "version": "3.6.2"
  }
 },
 "nbformat": 4,
 "nbformat_minor": 2
}
