{
 "cells": [
  {
   "cell_type": "markdown",
   "metadata": {},
   "source": [
    "# MNIST (softmax)"
   ]
  },
  {
   "cell_type": "code",
   "execution_count": 25,
   "metadata": {},
   "outputs": [],
   "source": [
    "import tensorflow as tf\n",
    "import numpy as np\n",
    "import matplotlib.pyplot as plt"
   ]
  },
  {
   "cell_type": "markdown",
   "metadata": {},
   "source": [
    "## Download and read in data\n",
    "\n",
    "MNIST data is split into three parts:\n",
    "- mnist.train: 55,000\n",
    "- mnist.validation: 5000\n",
    "- mnist.test: 10,000\n",
    "\n",
    "Each contains an image of handwritten digit and a corresponding label.\n",
    "Each image is 28 * 28 pixels which can be flatten into a vector of size 784.\n",
    "A lable is \"one-hot vector\". For example, digit 9 would be labeled as [0,0,0,0,0,0,0,0,0,1]\n",
    "\n",
    "Consequently, for training: \n",
    "- mnist.train.images (size of  [55000,784])\n",
    "- mnist.train.labels (size of  [55000,10])"
   ]
  },
  {
   "cell_type": "code",
   "execution_count": 26,
   "metadata": {},
   "outputs": [
    {
     "name": "stdout",
     "output_type": "stream",
     "text": [
      "Extracting MNIST_data/train-images-idx3-ubyte.gz\n",
      "Extracting MNIST_data/train-labels-idx1-ubyte.gz\n",
      "Extracting MNIST_data/t10k-images-idx3-ubyte.gz\n",
      "Extracting MNIST_data/t10k-labels-idx1-ubyte.gz\n"
     ]
    }
   ],
   "source": [
    "from tensorflow.examples.tutorials.mnist import input_data\n",
    "\n",
    "mnist = input_data.read_data_sets(\"MNIST_data/\", one_hot=True)"
   ]
  },
  {
   "cell_type": "markdown",
   "metadata": {},
   "source": [
    "## Train a Softmax Classifier\n",
    "\n",
    "#### Multiclass Classification Problem\n",
    "Let C be the number of classes. Then the number of hidden units of output layer(softmax layer) is C.\n",
    "- Softmax Regression\n",
    "\n",
    "$$z = Wx + b$$\n",
    "\n",
    "- Activation Function\n",
    "\n",
    "$$ t = e^z $$\n",
    "\n",
    "\n",
    "$$\\hat{y}  = \\frac{e^z}{\\sum^C_{i=1}t_i}$$\n",
    "\n",
    "where $\\hat{y} $ is a C * 1 vector\n",
    "\n",
    "\n",
    "#### Loss Function (for a single training example)\n",
    "\n",
    "$$L(\\hat{y}, y) = - \\sum^C_{j=1} y_j log \\hat{y}_j$$\n",
    "The loss function looks at whatever is the ground truth class in the training set, and tries to make the corresponding\n",
    "probability of that class as high as possible. Since we use one-hot vector to represent the ground truth label y, hence for a single training example which has $j^{th}$ class as the label, we have\n",
    "$$L(\\hat{y}, y) = -log\\hat{y}_j = -log \\frac{e^z}{\\sum^C_{j=1}t_j}$$ \n",
    "\n",
    "\n",
    "#### Total cost (for the whole training data)\n",
    "$$J(W,b) =  \\frac{1}{m} \\sum_{i=1}^m L(\\hat{y} ^{(i)}, y^{(i)})$$\n",
    "We can use gradient descent in order to minimize the cost"
   ]
  },
  {
   "cell_type": "code",
   "execution_count": 27,
   "metadata": {},
   "outputs": [],
   "source": [
    "def softmax(X_train, Y_train, X_test, Y_test, batch_size = 64, learning_rate = 0.5, num_epochs = 1000):\n",
    "    \n",
    "    # Create the model\n",
    "    X = tf.placeholder(tf.float32, [None, 784])\n",
    "    W = tf.Variable(tf.zeros([784, 10]))\n",
    "    b = tf.Variable(tf.zeros([10]))\n",
    "    logits = tf.add(tf.matmul(X,W), b)\n",
    "    \n",
    "    # Define cost\n",
    "    Y = tf.placeholder(tf.float32, [None, 10])\n",
    "    cross_entropy = tf.nn.softmax_cross_entropy_with_logits(logits=logits, labels=Y) # softmax is applied internally\n",
    "    cost = tf.reduce_mean(cross_entropy) # mean cross entropy\n",
    "    \n",
    "    '''alternatively'''\n",
    "    #tf.reduce_mean(-tf.reduce_sum(Y * log(tf.nn.softmax(logits)), reduction_indices = [1]))#\n",
    "    \n",
    "    \n",
    "    # Gradient Descent\n",
    "    optimizer = tf.train.GradientDescentOptimizer(learning_rate = learning_rate).minimize(cost)\n",
    "    \n",
    "    # Train\n",
    "    init = tf.global_variables_initializer()\n",
    "    session= tf.Session()\n",
    "    session.run(init)\n",
    "    costs = []\n",
    "    \n",
    "    for epoch in range(num_epochs):\n",
    "        epoch_cost = 0\n",
    "        batch_x, batch_y = mnist.train.next_batch(batch_size)\n",
    "        _, batch_cost = session.run([optimizer, cost], feed_dict={X:batch_x, Y:batch_y})\n",
    "        \n",
    "        epoch_cost += batch_cost\n",
    "        \n",
    "        # Print the cost\n",
    "        if epoch % 100 == 0:\n",
    "            print (\"Cost after epoch %i: %f\" % (epoch, epoch_cost))\n",
    "        if epoch % 5 == 0:\n",
    "            costs.append(epoch_cost)\n",
    "    \n",
    "    plt.plot(np.squeeze(costs))\n",
    "    plt.ylabel('cost')\n",
    "    plt.xlabel('iterations (per tens)')\n",
    "    plt.title(\"Learning rate = \" + str(learning_rate))\n",
    "    plt.show()\n",
    "    \n",
    "    # Tain Accuracy (calculated based on whole dataset, not depend on previous batch processing)\n",
    "    ## tf.argmax(): Returns the index with the largest value across axis of a tensor.\n",
    "    ## size of logits and Y: [m, 10], should examine along the row(axis=1)\n",
    "    correct_prediction = tf.equal(tf.argmax(logits, 1), tf.argmax(Y, 1))\n",
    "    accuracy = tf.reduce_mean(tf.cast(correct_prediction, tf.float32)) \n",
    "    \n",
    "    print(\"train accuracy: \", session.run(accuracy, feed_dict={X: X_train, Y: Y_train}))\n",
    "    \n",
    "    # Test the Model\n",
    "    n_batches = int(mnist.test.num_examples/batch_size)\n",
    "    total_correct_preds = 0\n",
    "    for i in range(n_batches):\n",
    "        X_batch, Y_batch = mnist.test.next_batch(batch_size)\n",
    "        _, loss_batch, logits_batch = session.run([optimizer, cost, logits], feed_dict={X:X_batch, Y:Y_batch})\n",
    "        preds = tf.nn.softmax(logits_batch)\n",
    "        correct_preds = tf.equal(tf.argmax(preds, 1), tf.argmax(Y_batch, 1))\n",
    "        accuracy = tf.reduce_sum(tf.cast(correct_preds, tf.float32)) # similar to numpy.count_nonzero(bool array)\n",
    "        total_correct_preds += session.run(accuracy)\n",
    "    print(\"test accuracy: \", total_correct_preds/mnist.test.num_examples)\n",
    "    "
   ]
  },
  {
   "cell_type": "code",
   "execution_count": 28,
   "metadata": {},
   "outputs": [
    {
     "name": "stdout",
     "output_type": "stream",
     "text": [
      "Cost after epoch 0: 2.302585\n",
      "Cost after epoch 100: 0.484336\n",
      "Cost after epoch 200: 0.296185\n",
      "Cost after epoch 300: 0.476314\n",
      "Cost after epoch 400: 0.186598\n",
      "Cost after epoch 500: 0.629829\n",
      "Cost after epoch 600: 0.415895\n",
      "Cost after epoch 700: 0.303958\n",
      "Cost after epoch 800: 0.399776\n",
      "Cost after epoch 900: 0.274569\n"
     ]
    },
    {
     "data": {
      "image/png": "[encoded data removed]",
      "text/plain": [
       "<matplotlib.figure.Figure at 0x123fcd4a8>"
      ]
     },
     "metadata": {},
     "output_type": "display_data"
    },
    {
     "name": "stdout",
     "output_type": "stream",
     "text": [
      "train accuracy:  0.910164\n",
      "test accuracy:  0.9133\n"
     ]
    }
   ],
   "source": [
    "softmax(mnist.train.images, mnist.train.labels, mnist.test.images, mnist.test.labels,learning_rate = 0.5, num_epochs = 1000)"
   ]
  },
  {
   "cell_type": "code",
   "execution_count": null,
   "metadata": {},
   "outputs": [],
   "source": []
  }
 ],
 "metadata": {
  "kernelspec": {
   "display_name": "tfkernel",
   "language": "python",
   "name": "tfkernel"
  },
  "language_info": {
   "codemirror_mode": {
    "name": "ipython",
    "version": 3
   },
   "file_extension": ".py",
   "mimetype": "text/x-python",
   "name": "python",
   "nbconvert_exporter": "python",
   "pygments_lexer": "ipython3",
   "version": "3.6.2"
  }
 },
 "nbformat": 4,
 "nbformat_minor": 2
}
