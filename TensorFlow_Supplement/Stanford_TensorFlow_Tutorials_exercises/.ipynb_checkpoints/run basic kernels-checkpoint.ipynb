{
 "cells": [
  {
   "cell_type": "code",
   "execution_count": 1,
   "metadata": {},
   "outputs": [],
   "source": [
    "import os\n",
    "os.environ['TF_CPP_MIN_LOG_LEVEL']='2'\n",
    "\n",
    "import sys\n",
    "sys.path.append('..')\n",
    "\n",
    "from matplotlib import gridspec as gridspec\n",
    "from matplotlib import pyplot as plt\n",
    "import tensorflow as tf\n",
    "\n",
    "import kernels"
   ]
  },
  {
   "cell_type": "code",
   "execution_count": 2,
   "metadata": {},
   "outputs": [],
   "source": [
    "def read_one_image(filename):\n",
    "    '''\n",
    "    Read an image from a file into a tensor.\n",
    "    Output is a tensor object\n",
    "    '''\n",
    "    image_name = tf.read_file(filename)\n",
    "    image_decoded = tf.image.decode_image(image_name)\n",
    "    # image size: [height, width, channels]\n",
    "    image = tf.cast(image_decoded, tf.float32) / 256.0\n",
    "    \n",
    "    return image"
   ]
  },
  {
   "cell_type": "code",
   "execution_count": 3,
   "metadata": {},
   "outputs": [
    {
     "name": "stdout",
     "output_type": "stream",
     "text": [
      "[  1 322 403   1]\n",
      "[322 403   1]\n",
      "0\n",
      "[3 3 1 1]\n",
      "1\n",
      "[3 3 1 1]\n",
      "2\n",
      "[3 3 1 1]\n",
      "3\n",
      "[3 3 1 1]\n",
      "4\n",
      "[3 3 1 1]\n"
     ]
    }
   ],
   "source": [
    "# image processing / kernel size test code here\n",
    "raw_image = read_one_image('data/friday.jpg')\n",
    "image_gray = tf.image.rgb_to_grayscale(raw_image)\n",
    "\n",
    "# https://tensorflow.google.cn/versions/master/api_docs/python/tf/expand_dims\n",
    "# need the image size to be [batch_size, height, width, channels]\n",
    "image = tf.expand_dims(image_gray, 0) # make it into a batch of 1 element\n",
    "\n",
    "# kernel size: [filter_height, filter_width, input_channels, num_filters]\n",
    "kernels_list = [kernels.BLUR_FILTER,\n",
    "                        kernels.SHARPEN_FILTER,\n",
    "                        kernels.EDGE_FILTER,\n",
    "                        kernels.TOP_SOBEL,\n",
    "                        kernels.EMBOSS_FILTER]\n",
    "\n",
    "with tf.Session() as sess:\n",
    "    print(sess.run(tf.shape(image)))\n",
    "    print(sess.run(tf.shape(image[0])))\n",
    "    for i, k in enumerate(kernels_list):\n",
    "        print(i)\n",
    "        print(sess.run(tf.shape(k)))\n"
   ]
  },
  {
   "cell_type": "code",
   "execution_count": 4,
   "metadata": {},
   "outputs": [],
   "source": [
    "def convolve(image, kernels, rgb=True, strides=[1,3,3,1], padding='SAME'):\n",
    "    # use images to hold modified images, the first one is the original image\n",
    "    images = [image[0]] # to extract the original image (in this case, only one image)\n",
    "    for i, kernel in enumerate(kernels):\n",
    "        filtered_image = tf.nn.conv2d(image, kernel, strides=strides, padding=padding)[0]\n",
    "        if i == 2:\n",
    "            filtered_image = tf.minimum(tf.nn.relu(filtered_image), 255)\n",
    "        images.append(filtered_image)\n",
    "        \n",
    "    return images"
   ]
  },
  {
   "cell_type": "code",
   "execution_count": 5,
   "metadata": {},
   "outputs": [
    {
     "data": {
      "image/png": "[encoded data removed]",
      "text/plain": [
       "<matplotlib.figure.Figure at 0x11462d588>"
      ]
     },
     "metadata": {},
     "output_type": "display_data"
    }
   ],
   "source": [
    "def show_images(images, rgb=True):\n",
    "    gs = gridspec.GridSpec(1, len(images))\n",
    "    for i, image in enumerate(images):\n",
    "        plt.subplot(gs[0, i])\n",
    "        if rgb:\n",
    "            plt.imshow(image)\n",
    "        else: \n",
    "            image = image.reshape(image.shape[0], image.shape[1])\n",
    "            plt.imshow(image, cmap='gray')\n",
    "        plt.axis('off')\n",
    "    plt.show()\n",
    "\n",
    "def main():\n",
    "    rgb = False\n",
    "    if rgb:\n",
    "        kernels_list = [kernels.BLUR_FILTER_RGB, \n",
    "                        kernels.SHARPEN_FILTER_RGB, \n",
    "                        kernels.EDGE_FILTER_RGB,\n",
    "                        kernels.TOP_SOBEL_RGB,\n",
    "                        kernels.EMBOSS_FILTER_RGB]\n",
    "    else:\n",
    "        kernels_list = [kernels.BLUR_FILTER,\n",
    "                        kernels.SHARPEN_FILTER,\n",
    "                        kernels.EDGE_FILTER,\n",
    "                        kernels.TOP_SOBEL,\n",
    "                        kernels.EMBOSS_FILTER]\n",
    "\n",
    "    kernels_list = kernels_list[1:]\n",
    "    image = read_one_image('data/friday.jpg')\n",
    "    if not rgb:\n",
    "        image = tf.image.rgb_to_grayscale(image)\n",
    "    image = tf.expand_dims(image, 0) # make it into a batch of 1 element\n",
    "    images = convolve(image, kernels_list, rgb)\n",
    "    with tf.Session() as sess:\n",
    "        images = sess.run(images) # convert images from tensors to float values\n",
    "    show_images(images, rgb)\n",
    "\n",
    "if __name__ == '__main__':\n",
    "    main()"
   ]
  },
  {
   "cell_type": "code",
   "execution_count": null,
   "metadata": {},
   "outputs": [],
   "source": []
  }
 ],
 "metadata": {
  "kernelspec": {
   "display_name": "tfkernel",
   "language": "python",
   "name": "tfkernel"
  },
  "language_info": {
   "codemirror_mode": {
    "name": "ipython",
    "version": 3
   },
   "file_extension": ".py",
   "mimetype": "text/x-python",
   "name": "python",
   "nbconvert_exporter": "python",
   "pygments_lexer": "ipython3",
   "version": "3.6.2"
  }
 },
 "nbformat": 4,
 "nbformat_minor": 2
}
