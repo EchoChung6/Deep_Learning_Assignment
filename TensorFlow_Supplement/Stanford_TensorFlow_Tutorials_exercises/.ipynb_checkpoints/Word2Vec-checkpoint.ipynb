{
 "cells": [
  {
   "cell_type": "markdown",
   "metadata": {},
   "source": [
    "Implementation of word2vec skip-gram using NCE loss"
   ]
  },
  {
   "cell_type": "code",
   "execution_count": 1,
   "metadata": {},
   "outputs": [],
   "source": [
    "from __future__ import absolute_import\n",
    "from __future__ import division\n",
    "from __future__ import print_function\n",
    "\n",
    "import os\n",
    "os.environ['TF_CPP_MIN_LOG_LEVEL']='2'\n",
    "\n",
    "import numpy as np\n",
    "import tensorflow as tf\n",
    "from tensorflow.contrib.tensorboard.plugins import projector\n",
    "\n",
    "from process_data import process_data\n"
   ]
  },
  {
   "cell_type": "code",
   "execution_count": 2,
   "metadata": {},
   "outputs": [],
   "source": [
    "VOCAB_SIZE = 50000\n",
    "BATCH_SIZE = 128\n",
    "EMBED_SIZE = 128 # feature dimension of the word embedding vectors\n",
    "SKIP_WINDOW = 1 # the context window\n",
    "\n",
    "NUM_SAMPLED = 64    # Number of negative examples to sample\n",
    "\n",
    "LEARNING_RATE = 1.0\n",
    "NUM_TRAIN_STEPS = 100000\n",
    "SKIP_STEP = 5000 # how many steps to skip before reporting the loss\n"
   ]
  },
  {
   "cell_type": "code",
   "execution_count": 6,
   "metadata": {},
   "outputs": [
    {
     "name": "stdout",
     "output_type": "stream",
     "text": [
      "Dataset ready\n",
      "Average loss at step 4999 : 87.01694188632965\n",
      "Average loss at step 9999 : 28.162707678699494\n",
      "Average loss at step 14999 : 15.702117580413818\n",
      "Average loss at step 19999 : 10.9430840051651\n",
      "Average loss at step 24999 : 8.775613186168671\n",
      "Average loss at step 29999 : 7.956060899782181\n",
      "Average loss at step 34999 : 7.2501611609458925\n",
      "Average loss at step 39999 : 6.706117380619049\n",
      "Average loss at step 44999 : 6.396649955368042\n",
      "Average loss at step 49999 : 6.121219446563721\n",
      "Average loss at step 54999 : 6.078530253648758\n",
      "Average loss at step 59999 : 5.902586997079849\n",
      "Average loss at step 64999 : 5.688620286917686\n",
      "Average loss at step 69999 : 5.677082128810882\n",
      "Average loss at step 74999 : 5.526431411600113\n",
      "Average loss at step 79999 : 5.551550924563408\n",
      "Average loss at step 84999 : 5.50891513915062\n",
      "Average loss at step 89999 : 5.412726171064377\n",
      "Average loss at step 94999 : 5.333961833238602\n",
      "Average loss at step 99999 : 5.263475458574295\n"
     ]
    }
   ],
   "source": [
    "def word2vec(dataset):\n",
    "    '''Phase 1: Assemble the graph'''\n",
    "    # Step 1: define the placeholder for input(center word) and output(context word)\n",
    "    with tf.name_scope('data'):\n",
    "        center_words = tf.placeholder(tf.int32,shape=[BATCH_SIZE], name='center_words')\n",
    "        context_words = tf.placeholder(tf.int32,shape=[BATCH_SIZE, 1], name='context_words')\n",
    "        \n",
    "    # Step 2: define weights in embedding matrix (weights for hidden layer)\n",
    "    with tf.name_scope('embedding_matrix'):\n",
    "        embed = tf.Variable(tf.random_uniform([VOCAB_SIZE, EMBED_SIZE], -1.0, 1.0, name='embed_matrix'))\n",
    "        \n",
    "    # Step 3: define forward inference\n",
    "    with tf.name_scope('loss'):\n",
    "        representation = tf.nn.embedding_lookup(embed, center_words, name='lookup')\n",
    "        \n",
    "        # Step 4: compute NCE loss (weights for output layer)\n",
    "        nce_weight = tf.Variable(tf.truncated_normal([VOCAB_SIZE, EMBED_SIZE], stddev=1.0), name='nce_weight')\n",
    "        nce_bias = tf.Variable(tf.zeros([VOCAB_SIZE]), name='nce_bias')\n",
    "        loss = tf.reduce_mean(tf.nn.nce_loss(weights=nce_weight, \n",
    "                                             biases=nce_bias,\n",
    "                                             labels=context_words,\n",
    "                                             inputs=representation,\n",
    "                                             num_sampled=NUM_SAMPLED,\n",
    "                                             num_classes=VOCAB_SIZE), name='loss')\n",
    "    \n",
    "    # Step 5: define optimizer\n",
    "    optimizer = tf.train.GradientDescentOptimizer(LEARNING_RATE).minimize(loss)\n",
    "    \n",
    "    '''Phase 2: Execute the computation'''\n",
    "    with tf.Session() as sess:\n",
    "        sess.run(tf.global_variables_initializer())\n",
    "        writer = tf.summary.FileWriter('./graphs/no_frills/', sess.graph)\n",
    "        \n",
    "        total_loss = 0.0\n",
    "        \n",
    "        for index in range(NUM_TRAIN_STEPS):\n",
    "            centers, context = next(dataset)\n",
    "            batch_loss, _ = sess.run([loss, optimizer], \n",
    "                                     feed_dict={center_words:centers, context_words:context})\n",
    "            \n",
    "            total_loss += batch_loss\n",
    "            \n",
    "            if(index+1) % SKIP_STEP == 0:\n",
    "                print('Average loss at step {} : {}'.format(index, total_loss/SKIP_STEP))\n",
    "                total_loss = 0\n",
    "        writer.close()\n",
    "\n",
    "def main():\n",
    "    batch_gen = process_data(VOCAB_SIZE, BATCH_SIZE, SKIP_WINDOW)\n",
    "    word2vec(batch_gen)\n",
    "\n",
    "if __name__ == '__main__':\n",
    "    main()"
   ]
  },
  {
   "cell_type": "code",
   "execution_count": null,
   "metadata": {},
   "outputs": [],
   "source": []
  }
 ],
 "metadata": {
  "kernelspec": {
   "display_name": "tfkernel",
   "language": "python",
   "name": "tfkernel"
  },
  "language_info": {
   "codemirror_mode": {
    "name": "ipython",
    "version": 3
   },
   "file_extension": ".py",
   "mimetype": "text/x-python",
   "name": "python",
   "nbconvert_exporter": "python",
   "pygments_lexer": "ipython3",
   "version": "3.6.2"
  }
 },
 "nbformat": 4,
 "nbformat_minor": 2
}
