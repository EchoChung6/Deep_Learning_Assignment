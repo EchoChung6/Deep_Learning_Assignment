{
 "cells": [
  {
   "cell_type": "markdown",
   "metadata": {},
   "source": [
    "## Linear Regression Example\n",
    "\n",
    "* Author: Yingying ZHONG\n",
    "* data:"
   ]
  },
  {
   "cell_type": "code",
   "execution_count": 1,
   "metadata": {},
   "outputs": [],
   "source": [
    "import numpy as np\n",
    "import pandas as pd\n",
    "import tensorflow as tf\n",
    "import matplotlib.pyplot as plt\n",
    "from tensorflow.python.framework import ops\n",
    "%matplotlib inline"
   ]
  },
  {
   "cell_type": "code",
   "execution_count": 2,
   "metadata": {},
   "outputs": [
    {
     "data": {
      "text/html": [
       "<div>\n",
       "<style>\n",
       "    .dataframe thead tr:only-child th {\n",
       "        text-align: right;\n",
       "    }\n",
       "\n",
       "    .dataframe thead th {\n",
       "        text-align: left;\n",
       "    }\n",
       "\n",
       "    .dataframe tbody tr th {\n",
       "        vertical-align: top;\n",
       "    }\n",
       "</style>\n",
       "<table border=\"1\" class=\"dataframe\">\n",
       "  <thead>\n",
       "    <tr style=\"text-align: right;\">\n",
       "      <th></th>\n",
       "      <th>medv</th>\n",
       "      <th>crim</th>\n",
       "      <th>zn</th>\n",
       "      <th>indus</th>\n",
       "      <th>nox</th>\n",
       "      <th>rm</th>\n",
       "      <th>age</th>\n",
       "      <th>dis</th>\n",
       "      <th>rad</th>\n",
       "      <th>tax</th>\n",
       "      <th>ptratio</th>\n",
       "      <th>b</th>\n",
       "      <th>lstat</th>\n",
       "    </tr>\n",
       "  </thead>\n",
       "  <tbody>\n",
       "    <tr>\n",
       "      <th>0</th>\n",
       "      <td>24</td>\n",
       "      <td>-1.000000</td>\n",
       "      <td>-0.64</td>\n",
       "      <td>-0.864370</td>\n",
       "      <td>-0.370370</td>\n",
       "      <td>0.155011</td>\n",
       "      <td>0.283213</td>\n",
       "      <td>-0.461594</td>\n",
       "      <td>-1.000000</td>\n",
       "      <td>-0.583969</td>\n",
       "      <td>-0.425532</td>\n",
       "      <td>1.000000</td>\n",
       "      <td>-0.820640</td>\n",
       "    </tr>\n",
       "    <tr>\n",
       "      <th>1</th>\n",
       "      <td>21</td>\n",
       "      <td>-0.999528</td>\n",
       "      <td>-1.00</td>\n",
       "      <td>-0.515396</td>\n",
       "      <td>-0.654321</td>\n",
       "      <td>0.095995</td>\n",
       "      <td>0.565396</td>\n",
       "      <td>-0.302076</td>\n",
       "      <td>-0.913043</td>\n",
       "      <td>-0.790076</td>\n",
       "      <td>0.106383</td>\n",
       "      <td>1.000000</td>\n",
       "      <td>-0.591060</td>\n",
       "    </tr>\n",
       "    <tr>\n",
       "      <th>2</th>\n",
       "      <td>34</td>\n",
       "      <td>-0.999529</td>\n",
       "      <td>-1.00</td>\n",
       "      <td>-0.515396</td>\n",
       "      <td>-0.654321</td>\n",
       "      <td>0.388772</td>\n",
       "      <td>0.198764</td>\n",
       "      <td>-0.302076</td>\n",
       "      <td>-0.913043</td>\n",
       "      <td>-0.790076</td>\n",
       "      <td>0.106383</td>\n",
       "      <td>0.979475</td>\n",
       "      <td>-0.873068</td>\n",
       "    </tr>\n",
       "    <tr>\n",
       "      <th>3</th>\n",
       "      <td>33</td>\n",
       "      <td>-0.999414</td>\n",
       "      <td>-1.00</td>\n",
       "      <td>-0.873900</td>\n",
       "      <td>-0.699588</td>\n",
       "      <td>0.317111</td>\n",
       "      <td>-0.116375</td>\n",
       "      <td>-0.102911</td>\n",
       "      <td>-0.826087</td>\n",
       "      <td>-0.866412</td>\n",
       "      <td>0.297872</td>\n",
       "      <td>0.988552</td>\n",
       "      <td>-0.933223</td>\n",
       "    </tr>\n",
       "    <tr>\n",
       "      <th>4</th>\n",
       "      <td>36</td>\n",
       "      <td>-0.998590</td>\n",
       "      <td>-1.00</td>\n",
       "      <td>-0.873900</td>\n",
       "      <td>-0.699588</td>\n",
       "      <td>0.374210</td>\n",
       "      <td>0.056643</td>\n",
       "      <td>-0.102911</td>\n",
       "      <td>-0.826087</td>\n",
       "      <td>-0.866412</td>\n",
       "      <td>0.297872</td>\n",
       "      <td>1.000000</td>\n",
       "      <td>-0.801325</td>\n",
       "    </tr>\n",
       "  </tbody>\n",
       "</table>\n",
       "</div>"
      ],
      "text/plain": [
       "   medv      crim    zn     indus       nox        rm       age       dis  \\\n",
       "0    24 -1.000000 -0.64 -0.864370 -0.370370  0.155011  0.283213 -0.461594   \n",
       "1    21 -0.999528 -1.00 -0.515396 -0.654321  0.095995  0.565396 -0.302076   \n",
       "2    34 -0.999529 -1.00 -0.515396 -0.654321  0.388772  0.198764 -0.302076   \n",
       "3    33 -0.999414 -1.00 -0.873900 -0.699588  0.317111 -0.116375 -0.102911   \n",
       "4    36 -0.998590 -1.00 -0.873900 -0.699588  0.374210  0.056643 -0.102911   \n",
       "\n",
       "        rad       tax   ptratio         b     lstat  \n",
       "0 -1.000000 -0.583969 -0.425532  1.000000 -0.820640  \n",
       "1 -0.913043 -0.790076  0.106383  1.000000 -0.591060  \n",
       "2 -0.913043 -0.790076  0.106383  0.979475 -0.873068  \n",
       "3 -0.826087 -0.866412  0.297872  0.988552 -0.933223  \n",
       "4 -0.826087 -0.866412  0.297872  1.000000 -0.801325  "
      ]
     },
     "execution_count": 2,
     "metadata": {},
     "output_type": "execute_result"
    }
   ],
   "source": [
    "# Load Data\n",
    "names =  ['medv', 'crim', 'zn', 'indus', 'nox', 'rm', 'age', 'dis', 'rad', 'tax', 'ptratio', 'b', 'lstat']\n",
    "data = pd.read_csv('data/housing_scale.csv', header=None, names=names)\n",
    "data.head()"
   ]
  },
  {
   "cell_type": "code",
   "execution_count": 3,
   "metadata": {},
   "outputs": [],
   "source": [
    "# Pre-processing the data\n",
    "def split_data(data):\n",
    "    np.random.seed(1)\n",
    "    N = len(data)\n",
    "    idx = np.arange(N)\n",
    "    np.random.shuffle(idx)\n",
    "    train_idx = idx[:int(N/2)]\n",
    "    test_idx = idx[int(N/2):]\n",
    "\n",
    "    X_train = data.loc[train_idx].drop('medv', axis=1)\n",
    "    t_train = data.loc[train_idx]['medv']\n",
    "    X_test = data.loc[test_idx].drop('medv', axis=1)\n",
    "    t_test = data.loc[test_idx]['medv']\n",
    "\n",
    "    return X_train, t_train, X_test, t_test"
   ]
  },
  {
   "cell_type": "code",
   "execution_count": 4,
   "metadata": {},
   "outputs": [
    {
     "name": "stdout",
     "output_type": "stream",
     "text": [
      "(253, 12) (253, 1)\n",
      "253 12\n"
     ]
    },
    {
     "name": "stderr",
     "output_type": "stream",
     "text": [
      "/Users/Yingying/anaconda/envs/tensorflow/lib/python3.6/site-packages/ipykernel_launcher.py:4: FutureWarning: reshape is deprecated and will raise in a subsequent release. Please use .values.reshape(...) instead\n",
      "  after removing the cwd from sys.path.\n",
      "/Users/Yingying/anaconda/envs/tensorflow/lib/python3.6/site-packages/ipykernel_launcher.py:6: FutureWarning: reshape is deprecated and will raise in a subsequent release. Please use .values.reshape(...) instead\n",
      "  \n"
     ]
    }
   ],
   "source": [
    "X_train, t_train, X_test, t_test = split_data(data)\n",
    "m = X_train.shape[0]\n",
    "n = X_train.shape[1]\n",
    "t_train = t_train.reshape(m,1)\n",
    "m_test = t_test.shape[0]\n",
    "t_test = t_test.reshape(m_test,1)\n",
    "print(X_train.shape, t_train.shape)\n",
    "print(m,n)"
   ]
  },
  {
   "cell_type": "code",
   "execution_count": 6,
   "metadata": {},
   "outputs": [],
   "source": [
    "def create_placeholder(n):\n",
    "    \"\"\"\n",
    "    Creates the placeholders for the tensorflow session.\n",
    "    \n",
    "    Arguments:\n",
    "    n -- scalar, number of features\n",
    "    \n",
    "    Returns:\n",
    "    X -- placeholder for the data input, of shape [None, n] and dtype \"float\"\n",
    "    Y -- placeholder for the input labels, of shape [None, 1] and dtype \"float\"\n",
    "    \n",
    "    Tips:\n",
    "    - use None to allow flexibility on the number of examples.\n",
    "      In fact, the number of examples during test/train is different.\n",
    "    \"\"\"\n",
    "    X = tf.placeholder(tf.float32, [None, n])\n",
    "    Y = tf.placeholder(tf.float32, [None, 1])\n",
    "    \n",
    "    return X, Y"
   ]
  },
  {
   "cell_type": "code",
   "execution_count": 12,
   "metadata": {},
   "outputs": [],
   "source": [
    "def initialize_parameters():\n",
    "    \"\"\"\n",
    "    W: [12,1]\n",
    "    b: a scaler\n",
    "    \"\"\"\n",
    "    tf.set_random_seed(1)\n",
    "    \n",
    "    W = tf.get_variable(\"W\", [12,1], initializer = tf.contrib.layers.xavier_initializer(seed = 1))\n",
    "    b = tf.get_variable(\"w\", [1], initializer = tf.zeros_initializer())\n",
    "    \n",
    "    # W = tf.Variable(tf.truncated_normal([12, 1], mean=0.0, stddev=1.0, dtype=tf.float32))\n",
    "    # b = tf.Variable(tf.zeros([1]))\n",
    "    \n",
    "    parameters = {\"W\" : W,\n",
    "                  \"b\" : b}\n",
    "    \n",
    "    return parameters"
   ]
  },
  {
   "cell_type": "code",
   "execution_count": 13,
   "metadata": {},
   "outputs": [],
   "source": [
    "def liner_function(X, parameters):\n",
    "    \"\"\"\n",
    "    Implement linear function Y = WX + b\n",
    "    \"\"\"\n",
    "    # Retrieve parameters from the dictionary parameters\n",
    "    W = parameters[\"W\"]\n",
    "    b = parameters[\"b\"]\n",
    "    \n",
    "    # Construct a linear model\n",
    "    pred = tf.add(tf.matmul(X, W), b)\n",
    "    \n",
    "    return pred"
   ]
  },
  {
   "cell_type": "markdown",
   "metadata": {},
   "source": [
    "tf.reduce_sum()\n",
    "\n",
    "https://tensorflow.google.cn/api_docs/python/tf/reduce_sum"
   ]
  },
  {
   "cell_type": "code",
   "execution_count": 14,
   "metadata": {},
   "outputs": [],
   "source": [
    "def compute_cost(pred, Y):\n",
    "    \"\"\"\n",
    "    Compute the mean square error\n",
    "    \n",
    "    Argument:\n",
    "    pred - the output of linear function\n",
    "    Y - true labels vector placeholder\n",
    "    \n",
    "    Return\n",
    "    the cost \n",
    "    \"\"\"\n",
    "    return tf.reduce_sum(tf.pow(pred - Y, 2)) / (2 * m)"
   ]
  },
  {
   "cell_type": "code",
   "execution_count": 16,
   "metadata": {},
   "outputs": [],
   "source": [
    "def linear_regression_model(X_train, t_train, X_test, t_test, learning_rate = 0.01, \n",
    "                            num_epochs = 1000, display_step = 50, print_cost = True):\n",
    "    \n",
    "    ops.reset_default_graph()                         # to be able to rerun the model without overwriting tf variables\n",
    "    tf.set_random_seed(1)                             # to keep consistent results\n",
    "    seed = 3                                          # to keep consistent results\n",
    "    \n",
    "    \n",
    "    (m, n) = X_train.shape\n",
    "    costs = []\n",
    "    \n",
    "    X, Y = create_placeholder(n)\n",
    "    parameters = initialize_parameters()\n",
    "    pred = liner_function(X, parameters)\n",
    "    cost = compute_cost(pred, Y)\n",
    "    optimizer = tf.train.GradientDescentOptimizer(learning_rate).minimize(cost)\n",
    "    \n",
    "    # Initialize all the variables\n",
    "    init = tf.global_variables_initializer()\n",
    "    \n",
    "    # Start the session to compute the tensorflow graph\n",
    "    with tf.Session() as sess:\n",
    "        \n",
    "        # Run the initialization\n",
    "        sess.run(init)\n",
    "        \n",
    "        # Do the training loop\n",
    "        for epoch in range(num_epochs):\n",
    "            _, epoch_cost = sess.run([optimizer, cost], feed_dict={X: X_train, Y: t_train})\n",
    "            \n",
    "            if print_cost == True and epoch % 100 == 0:\n",
    "                print (\"Cost after epoch %i : %f\" % (epoch, epoch_cost))\n",
    "            if print_cost == True and epoch % 5 == 0:\n",
    "                costs.append(epoch_cost)\n",
    "    \n",
    "        # plot the cost\n",
    "        plt.plot(np.squeeze(costs)) # Remove single-dimensional entries from the shape of costs\n",
    "        plt.ylabel('cost')\n",
    "        plt.xlabel('iterations(per 5 epoches)')\n",
    "        plt.title(\"Learning rate =\" + str(learning_rate))\n",
    "        plt.show()\n",
    "        \n",
    "        # save the parameters in a variable\n",
    "        parameters = sess.run(parameters)\n",
    "        print (\"Parameters have been trained!\")\n",
    "        \n",
    "        # evaluation metric: the difference between prediction and true price is less than 5\n",
    "        correct_prediction = (tf.abs(pred - Y) < 5) # return a boolean vactor i.e[1,0,1,1,...]\n",
    "        accuracy = tf.reduce_mean(tf.cast(correct_prediction, \"float\")) # the mean reflects the accuracy\n",
    "        \n",
    "        print (\"Train Accuracy:\", accuracy.eval({X: X_train, Y: t_train}))\n",
    "        print (\"Test Accuracy:\", accuracy.eval({X: X_test, Y: t_test}))\n",
    "      \n",
    "        return parameters\n",
    "            "
   ]
  },
  {
   "cell_type": "code",
   "execution_count": 18,
   "metadata": {},
   "outputs": [
    {
     "name": "stdout",
     "output_type": "stream",
     "text": [
      "Cost after epoch 0 : 277.802246\n",
      "Cost after epoch 100 : 28.478800\n",
      "Cost after epoch 200 : 23.638777\n",
      "Cost after epoch 300 : 20.332161\n",
      "Cost after epoch 400 : 18.000671\n",
      "Cost after epoch 500 : 16.335632\n",
      "Cost after epoch 600 : 15.131363\n",
      "Cost after epoch 700 : 14.248716\n",
      "Cost after epoch 800 : 13.592731\n",
      "Cost after epoch 900 : 13.098104\n"
     ]
    },
    {
     "data": {
      "image/png": "[encoded data removed]",
      "text/plain": [
       "<matplotlib.figure.Figure at 0x117273dd8>"
      ]
     },
     "metadata": {},
     "output_type": "display_data"
    },
    {
     "name": "stdout",
     "output_type": "stream",
     "text": [
      "Parameters have been trained!\n",
      "Train Accuracy: 0.790514\n",
      "Test Accuracy: 0.814229\n",
      "W : [[-6.61955118]\n",
      " [-0.35098591]\n",
      " [-1.97868288]\n",
      " [-2.42378449]\n",
      " [ 7.82025957]\n",
      " [ 0.36531568]\n",
      " [-5.42600298]\n",
      " [ 1.68095303]\n",
      " [-1.03731382]\n",
      " [-4.91519117]\n",
      " [ 2.80296731]\n",
      " [-8.90307236]] \n",
      "b : [ 6.87906837] \n"
     ]
    }
   ],
   "source": [
    "parameters = linear_regression_model(X_train, t_train, X_test, t_test)\n",
    "print(\"W : %s \" % parameters[\"W\"])\n",
    "print(\"b : %s \" % parameters[\"b\"])"
   ]
  },
  {
   "cell_type": "code",
   "execution_count": null,
   "metadata": {},
   "outputs": [],
   "source": []
  }
 ],
 "metadata": {
  "kernelspec": {
   "display_name": "tfkernel",
   "language": "python",
   "name": "tfkernel"
  },
  "language_info": {
   "codemirror_mode": {
    "name": "ipython",
    "version": 3
   },
   "file_extension": ".py",
   "mimetype": "text/x-python",
   "name": "python",
   "nbconvert_exporter": "python",
   "pygments_lexer": "ipython3",
   "version": "3.6.2"
  }
 },
 "nbformat": 4,
 "nbformat_minor": 2
}
