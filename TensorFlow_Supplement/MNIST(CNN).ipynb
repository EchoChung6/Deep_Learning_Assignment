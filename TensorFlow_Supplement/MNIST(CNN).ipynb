{
 "cells": [
  {
   "cell_type": "markdown",
   "metadata": {},
   "source": [
    "# Deep MNIST"
   ]
  },
  {
   "cell_type": "code",
   "execution_count": 2,
   "metadata": {},
   "outputs": [],
   "source": [
    "import tensorflow as tf\n",
    "import numpy as np"
   ]
  },
  {
   "cell_type": "code",
   "execution_count": 1,
   "metadata": {},
   "outputs": [
    {
     "name": "stdout",
     "output_type": "stream",
     "text": [
      "Extracting MNIST_data/train-images-idx3-ubyte.gz\n",
      "Extracting MNIST_data/train-labels-idx1-ubyte.gz\n",
      "Extracting MNIST_data/t10k-images-idx3-ubyte.gz\n",
      "Extracting MNIST_data/t10k-labels-idx1-ubyte.gz\n"
     ]
    }
   ],
   "source": [
    "# Load MNIST Data\n",
    "from tensorflow.examples.tutorials.mnist import input_data\n",
    "mnist = input_data.read_data_sets('MNIST_data', one_hot=True)"
   ]
  },
  {
   "cell_type": "code",
   "execution_count": 3,
   "metadata": {},
   "outputs": [],
   "source": [
    "# Weight Initialization\n",
    "def weight_variable(shape):\n",
    "    initial = tf.truncated_normal(shape, stddev=0.1)\n",
    "    return tf.Variable(initial)\n",
    "\n",
    "def bias_variable(shape):\n",
    "    initial = tf.constant(0.1, shape=shape)\n",
    "    return tf.Variable(inital)"
   ]
  },
  {
   "cell_type": "markdown",
   "metadata": {},
   "source": [
    "### Convolution and Pooling\n",
    "\n",
    "https://www.tensorflow.org/api_guides/python/nn#Convolution\n",
    "\n",
    "\n",
    "* tf.nn.conv2d(input, filter, strides, padding)\n",
    "\n",
    "https://stackoverflow.com/questions/34619177/what-does-tf-nn-conv2d-do-in-tensorflow\n",
    "\n",
    "* tf.nn,max_pool(input, filterSize, strides, padding)\n",
    "\n",
    "https://stackoverflow.com/questions/37674306/what-is-the-difference-between-same-and-valid-padding-in-tf-nn-max-pool-of-t\n",
    "\n",
    "ksize: https://stackoverflow.com/questions/38601452/the-usages-of-ksize-in-tf-nn-max-pool\n"
   ]
  },
  {
   "cell_type": "code",
   "execution_count": null,
   "metadata": {},
   "outputs": [],
   "source": [
    "# Convolution and Pooling\n",
    "\"\"\"\n",
    "x: input [_, height, width, numOfChannels]\n",
    "W: filter [fHeight, fWidth, numOfChannels, numOfFilters]\n",
    "\n",
    "output: [_, newHeight, newWidth, newChannels]\n",
    "where newHeight = floor((height + 2p - fHeight) / stride) + 1      # general case\n",
    "      newHeight = height                                           # same padding\n",
    "and   newChannels = numOfFileters\n",
    "\"\"\"\n",
    "def conv(x, W):\n",
    "    return tf.nn.conv2d(x, W, strides=[1,1,1,1], padding='SAME')\n",
    "def max_pool(x):\n",
    "    return tf.nn.max_pool(x, ksize=[1,2,2,1], strides=[1,2,2,1], padding = 'SAME')"
   ]
  },
  {
   "cell_type": "code",
   "execution_count": null,
   "metadata": {},
   "outputs": [],
   "source": [
    "def cnn(x):\n",
    "    \"\"\"\n",
    "    Build the convolutional neural network\n",
    "    \n",
    "    Args:\n",
    "        x: input [m, 784], where 28*28=784 is the number of pixels in a MNIST image\n",
    "    Returns:\n",
    "        y: with the value equals to the logits which is going to be used in softmax\n",
    "        keep_prob: a scalar placeholder for the probability of dropout, for further backpropogation\n",
    "    \"\"\"\n",
    "    \n",
    "    # Reshape x to use in CNN\n",
    "    with tf.name_scope('reshape'):\n",
    "        x_image = tf.reshape(x, [-1, 28, 28, 1]) # first dimension trick: -1 (when corresponding dimension of x is unknown yet) \n",
    "                                                # last dimension 1 for grayscale, or 3 for RGB\n",
    "    \n",
    "    # 1st Conv layer\n",
    "    # 32 filters with size 5*5, number of channel is 1 (grayscale image)\n",
    "    with tf.name_scope('conv1'):\n",
    "        W_conv1 = weight_variable([5, 5, 1, 32])\n",
    "        b_conv1 = bias_variable([32])\n",
    "        h_conv1 = tf.nn.relu(conv(x_image, W_conv1) + b_conv1)\n",
    "        \n",
    "    # 1st pooling layer\n",
    "    # the output will be []\n",
    "    with tf.name_scope('pool1'):\n",
    "        h_pool1 = max_pool(h_conv1)\n",
    "    \n",
    "    # 2nd Conv layer\n",
    "    # 64 filters with size 5*5, number of channel should match the output of 1st Conv layer\n",
    "    with tf.name_scope('conv2'):\n",
    "        W_conv2 = weight_variable([5, 5, 32, 64])\n",
    "        b_conv2 = bias_variable([64])\n",
    "        h_conv2 = tf.nn.relu(conv(h_pool1, W_conv2) + b_conv2)\n",
    "    \n",
    "    # 2nd pooling layer\n",
    "    with tf.name_scope('pool2'):\n",
    "        h_pool2 = max_pool(h_conv2)\n",
    "        \n",
    "    # 1st FC layer\n",
    "    # after 2 round of downsampling, the image height & width is 7 * 7\n",
    "    with tf.name_scope('fc1'):\n",
    "        W_fc1 = weight_variable([7*7*64, 1024])\n",
    "        b_fc1 = bias_variable([1024])\n",
    "        h_pool2_flat = tf.reshap(h_pool2, [-1, 7*7*64]) # the trick to flatten a matrix: -1\n",
    "        h_fc1 = tf.nn.relu(tf.matmul(h_pool2_flat, W_fc1) + b_fc1)\n",
    "        # dropout regularization\n",
    "        keep_prob = tf.placeholder(tf.float32)\n",
    "        h_fc1_drop = tf.nn.dropout(h_fc1, keep_prob)\n",
    "    \n",
    "    with tf.name_scope('fc2'):\n",
    "        W_fc2 = weight_variable([1024, 10])\n",
    "        b_fc2 = bias_variable([1])\n",
    "        \n",
    "        # before softmax\n",
    "        y_conv = tf.matmul(h_fc1_drop, W_fc2) + b_fc2\n",
    "    \n",
    "    return y_conv, keep_prob"
   ]
  },
  {
   "cell_type": "markdown",
   "metadata": {},
   "source": [
    "### A trick to flatten a matrix X\n",
    "\n",
    "e.g. shape of X: [a,b,c,d]\n",
    "need to reshape to a matrix X_flatten of shape [b*c*d, a]\n",
    "\n",
    "X_flatten = X.reshape(X.shape[0], -1).T"
   ]
  },
  {
   "cell_type": "code",
   "execution_count": null,
   "metadata": {},
   "outputs": [],
   "source": [
    "def main():\n",
    "    X = tf.placeholder(tf.float32, [None, 784])\n",
    "    Y = tf.placeholder(tf.float32, [None, 10])\n",
    "    \n",
    "    # Build the architecture\n",
    "    y_conv, keep_prob = cnn(X)\n",
    "    \n",
    "    # Compute the cost\n",
    "    cross_entropy = tf.reduce.mean(tf.nn.softmax_cross_entropy_with_logits(labels=Y, logits=y_conv))\n",
    "    \n",
    "    \n",
    "    "
   ]
  }
 ],
 "metadata": {
  "kernelspec": {
   "display_name": "tfkernel",
   "language": "python",
   "name": "tfkernel"
  },
  "language_info": {
   "codemirror_mode": {
    "name": "ipython",
    "version": 3
   },
   "file_extension": ".py",
   "mimetype": "text/x-python",
   "name": "python",
   "nbconvert_exporter": "python",
   "pygments_lexer": "ipython3",
   "version": "3.6.2"
  }
 },
 "nbformat": 4,
 "nbformat_minor": 2
}
